{
 "cells": [
  {
   "cell_type": "markdown",
   "metadata": {
    "slideshow": {
     "slide_type": "slide"
    }
   },
   "source": [
    "The call for diversity in film has been growing louder in the US. There has been increased backlash against films that feature white, A-List actors in roles that are portray non-white characters - as such Scarlet Johansson  in Ghost in the Shell, a story based in Japan. Anecdotally, this seems to be bad for business. Casting directors defend their decisions by arguing that the probability of box office failure increases without A list star power. \n",
    "\n",
    "However, the success of films that have majority non-white casts such as the recent live-action Aladdin and Crazy Rich Asians begs the question whether it is still true (or was ever true) that non-white, non-A-List actors cannot draw in audiences. \n",
    "\n",
    "The following analysis hopes to inform Microsoft’s casting decisions as Microsoft embarks on their new business venture in movie production. As you will see, the issue is not that non-white actors aren't box office draws - in fact the profitability of movies with non-white actors is similar if not more than white actors."
   ]
  },
  {
   "cell_type": "markdown",
   "metadata": {
    "slideshow": {
     "slide_type": "slide"
    }
   },
   "source": [
    "\n",
    "## Data Sources\n",
    "- **TheMovieDB.org**\n",
    "    - Data sourced via API\n",
    "    - We initially sourced the 360 most “popular\" movies released in the past 8 years (2018-2010). \n",
    "        - Doing so helped us limit the data quantity \n",
    "    - We filtered on movies produced in the US with the main, spoken language as English\n",
    "    - This left us with **280 movies** per year, on average\n",
    "    - We then excluded any movies for which The MovieDB did not provide revenue and/or budget figures\n",
    "    - This left us with **150 movies** per year (**1293 total movies**), on average\n",
    "    - From each movie we obtained the top 5 billed actors, where available from TheMovieDB.org\n",
    "- **EthnicCelebs.com**\n",
    "    - Data sourced via web scrapping\n",
    "    - Out of the **2600 number** of unique celebrities acting in the **1293 number** of films, EthnicCelebs.com had ethnicity information on **1909 number** of them (73%)\n",
    "    - Celebrities that did not have a page on EthnicCelebs.com were excluded from this analysis due to time contraints\n",
    "\n"
   ]
  },
  {
   "cell_type": "markdown",
   "metadata": {
    "slideshow": {
     "slide_type": "slide"
    }
   },
   "source": [
    "## Data Cleaning\n",
    "**Identifying Ethnicity**\n",
    "- Ethnicities were provided as a list, sometimes with percentages/fractions of that celebrity’s overall ethnicity (and sometimes without)\n",
    "- Anytime an ethnicity was listed as “possibly”, “distant”, or was a very low fraction of the total (e.g. 1/512th), we removed this ethnicity component from the celebrity\n",
    "- We identified each “ethnicity component” as either “white” or “non-white” for simplicity, since there were 349 number of unique ethnicity components\n",
    "    - E.g. English, Irish, Polish and Maltese mapped to “white”\n",
    "    - E.g. Puerto Rican, African-American, Indian, and Filipino mapped to “non-white”\n",
    "- If an actor had even one “non-white” ethnic component, we labeled the actor   “non-white” for simplicity \n",
    "    - E.g. Griffin Gluck's paternal grandfather is Japanese (1/8th non-white), but he is labeled as \"non-white\" for our purposes\n"
   ]
  },
  {
   "cell_type": "markdown",
   "metadata": {
    "slideshow": {
     "slide_type": "slide"
    }
   },
   "source": [
    "![](top_ethnicities.png)    "
   ]
  },
  {
   "cell_type": "markdown",
   "metadata": {
    "slideshow": {
     "slide_type": "slide"
    }
   },
   "source": [
    "![](top_nonwhite_eth.png)"
   ]
  },
  {
   "cell_type": "markdown",
   "metadata": {
    "slideshow": {
     "slide_type": "slide"
    }
   },
   "source": [
    "## Next Steps\n",
    "- Re-import 2017 movies and actors, for which we seem to be missing a substantial amount of data\n",
    "- Obtain ethnicities for actors that did not have their ethnicity listed on **EthnicCelebs.com** by scraping mother/father birthplaces from that actor’s Wikipedia \n",
    "- Obtain revenue and budget information missing from **TheMovieDB.org** via web scrapping other websites like BoxOfficeMojo (if available)\n",
    "- Refine classifications beyond “white” and “non-white”\n",
    "- Incorporate percentages of ethnic components in deciding if an actor should truly be identified as “non-white” (e.g. Billy —- being 1/32nd Indian"
   ]
  },
  {
   "cell_type": "markdown",
   "metadata": {
    "slideshow": {
     "slide_type": "slide"
    }
   },
   "source": [
    "![](mean-revenue-by-year-ethnicity.png)"
   ]
  },
  {
   "cell_type": "markdown",
   "metadata": {
    "slideshow": {
     "slide_type": "slide"
    }
   },
   "source": [
    "![](money-making-movies-by-genre-year.png)"
   ]
  },
  {
   "cell_type": "markdown",
   "metadata": {
    "slideshow": {
     "slide_type": "slide"
    }
   },
   "source": [
    "![](num-of-actors-by-genre-ethnicity.png)"
   ]
  },
  {
   "cell_type": "markdown",
   "metadata": {
    "slideshow": {
     "slide_type": "slide"
    }
   },
   "source": [
    "![most_profitable.jpeg](most_profitable.jpeg)"
   ]
  },
  {
   "cell_type": "markdown",
   "metadata": {
    "slideshow": {
     "slide_type": "slide"
    }
   },
   "source": [
    "![var_in_genres.png](var_in_genres.png)"
   ]
  },
  {
   "cell_type": "markdown",
   "metadata": {
    "slideshow": {
     "slide_type": "slide"
    }
   },
   "source": [
    "![low_cost_productionjpeg](low_cost_production.jpeg)"
   ]
  },
  {
   "cell_type": "markdown",
   "metadata": {
    "slideshow": {
     "slide_type": "slide"
    }
   },
   "source": [
    "## Actionable Insights\n",
    "- Hire more non-white actors - they will not hurt your profitability and might even benefit\n",
    "- Horror movies have the biggest bang-for-your-buck"
   ]
  },
  {
   "cell_type": "markdown",
   "metadata": {
    "slideshow": {
     "slide_type": "slide"
    }
   },
   "source": [
    "## Next Steps\n",
    "- Re-import 2017 movies and actors, for which we seem to be missing a substantial amount of data\n",
    "- Obtain ethnicities for actors that did not have their ethnicity listed on **EthnicCelebs.com** by scraping mother/father birthplaces from that actor’s Wikipedia \n",
    "- Obtain revenue and budget information missing from **TheMovieDB.org** via web scrapping other websites like BoxOfficeMojo (if available)\n",
    "- Refine classifications beyond “white” and “non-white”\n",
    "- Incorporate percentages of ethnic components in deciding if an actor should truly be identified as “non-white” (e.g. Billy —- being 1/32nd Indian"
   ]
  },
  {
   "cell_type": "code",
   "execution_count": null,
   "metadata": {},
   "outputs": [],
   "source": []
  }
 ],
 "metadata": {
  "celltoolbar": "Slideshow",
  "kernelspec": {
   "display_name": "Python 3",
   "language": "python",
   "name": "python3"
  },
  "language_info": {
   "codemirror_mode": {
    "name": "ipython",
    "version": 3
   },
   "file_extension": ".py",
   "mimetype": "text/x-python",
   "name": "python",
   "nbconvert_exporter": "python",
   "pygments_lexer": "ipython3",
   "version": "3.7.3"
  }
 },
 "nbformat": 4,
 "nbformat_minor": 2
}
